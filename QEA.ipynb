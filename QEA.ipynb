{
 "cells": [
  {
   "cell_type": "markdown",
   "id": "6ea5be6c",
   "metadata": {},
   "source": [
    "Implementación de un Algoritmo Evolutivo inspirado en la cuántica para resolver el problema de la mochila"
   ]
  },
  {
   "cell_type": "code",
   "execution_count": 1,
   "id": "35b0d70a",
   "metadata": {},
   "outputs": [],
   "source": [
    "import numpy as np\n",
    "import math\n",
    "from pathlib import Path\n",
    "import matplotlib as plt"
   ]
  },
  {
   "cell_type": "code",
   "execution_count": null,
   "id": "600ea029",
   "metadata": {},
   "outputs": [],
   "source": [
    "class Qbit:\n",
    "    \"\"\"Abstracción de la representación de un qubit\n",
    "        \n",
    "        Atributos\n",
    "        ----------\n",
    "        alpha : float, opcional\n",
    "            Valor alpha de la representación del qubit (por defecto math.sqrt(1/2)).\n",
    "        beta : float, opcional\n",
    "            Valor beta de la representación del qubit (por defecto math.sqrt(1/2)).\n",
    "        \"\"\"\n",
    "    def __init__(self,alfa=1,beta=0):\n",
    "        self.alfa = alfa\n",
    "        self.beta = beta\n",
    "\n",
    "    def medir(self):\n",
    "        \"\"\"Mide el valor del qubit comparando con un número aleatorio entre [0,1).\n",
    "        \n",
    "        Retorna\n",
    "        -------\n",
    "        medicion : int\n",
    "            0 o 1 dependiendo del qubit (alpha y beta) y el número aleatorio generado.\n",
    "        \"\"\"\n",
    "        return 1 if np.random.default_rng().random() < self.beta**2 else 0\n",
    "\n",
    "    def update(self,puerta):\n",
    "        \"\"\"Aplica la puerta al qubit self\n",
    "        \"\"\"\n",
    "        self.alfa = puerta[0][0]*self.alfa + puerta[0][1]*self.beta\n"
   ]
  },
  {
   "cell_type": "markdown",
   "id": "172c1a1a",
   "metadata": {},
   "source": [
    "definimos las puertas que vamos a aplicar"
   ]
  },
  {
   "cell_type": "code",
   "execution_count": null,
   "id": "b5c69530",
   "metadata": {},
   "outputs": [],
   "source": [
    "def matriz_hadamard():\n",
    "    \"\"\"Devuelve la matriz de una Hadamard\"\"\"\n",
    "    return np.array([math.sqrt(1/2),math.sqrt(1/2)],[math.sqrt(1/2),math.sqrt(1/2)])\n",
    "\n",
    "def matriz_rotacion(angulo):\n",
    "    return np.array([[math.cos(angulo),-math.sen(angulo)],[math.cos(angulo),math.sen(angulo)]])\n"
   ]
  }
 ],
 "metadata": {
  "kernelspec": {
   "display_name": ".venv",
   "language": "python",
   "name": "python3"
  },
  "language_info": {
   "codemirror_mode": {
    "name": "ipython",
    "version": 3
   },
   "file_extension": ".py",
   "mimetype": "text/x-python",
   "name": "python",
   "nbconvert_exporter": "python",
   "pygments_lexer": "ipython3",
   "version": "3.13.2"
  }
 },
 "nbformat": 4,
 "nbformat_minor": 5
}
